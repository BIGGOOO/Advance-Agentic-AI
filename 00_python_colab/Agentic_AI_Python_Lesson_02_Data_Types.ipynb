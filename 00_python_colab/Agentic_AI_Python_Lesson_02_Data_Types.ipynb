{
 "cells": [
  {
   "cell_type": "markdown",
   "metadata": {
    "id": "-eLQKWZO8ZSD"
   },
   "source": [
    "# **Python Data Types**\n",
    "\n",
    "\n",
    "---\n",
    "\n",
    "Data types determine the type of value a variable can hold and the operations that can be performed on it. They define the format, structure, size, range, and behavior of data, controlling how it's stored and used in a program. This helps ensure data is used correctly and efficiently."
   ]
  },
  {
   "cell_type": "markdown",
   "metadata": {
    "id": "9LzMKEXB8iWq"
   },
   "source": [
    "# **1. Numeric Types**\n",
    "Python has three main numeric types:\n",
    "\n",
    "# a. Integer (int)\n",
    "Whole numbers, positive or negative, without decimals."
   ]
  },
  {
   "cell_type": "code",
   "execution_count": 1,
   "metadata": {
    "colab": {
     "base_uri": "https://localhost:8080/"
    },
    "id": "fmpednR48H5z",
    "outputId": "64d0345e-1704-4fab-f044-00b04006e22d"
   },
   "outputs": [
    {
     "name": "stdout",
     "output_type": "stream",
     "text": [
      "<class 'int'>  num_int =  42\n"
     ]
    }
   ],
   "source": [
    "num_int: int = 42\n",
    "\n",
    "print(type(num_int),\" num_int = \",num_int,)  # <class 'int'>"
   ]
  },
  {
   "cell_type": "markdown",
   "metadata": {
    "id": "-KGLY8U-Zv3g"
   },
   "source": [
    "# b. Floating-Point (float)\n",
    "Numbers with decimal points."
   ]
  },
  {
   "cell_type": "code",
   "execution_count": 2,
   "metadata": {
    "colab": {
     "base_uri": "https://localhost:8080/"
    },
    "id": "-PKL8rZe8Hbj",
    "outputId": "216870c2-ce4c-4215-9ce1-d6eb98a7fc42"
   },
   "outputs": [
    {
     "name": "stdout",
     "output_type": "stream",
     "text": [
      "<class 'float'>  num_float =  3.14\n"
     ]
    }
   ],
   "source": [
    "num_float: float = 3.14\n",
    "#num_float: float = .14\n",
    "\n",
    "print(type(num_float), \" num_float = \", num_float)  # <class 'float'>"
   ]
  },
  {
   "cell_type": "markdown",
   "metadata": {
    "id": "yEstKFgkecGj"
   },
   "source": [
    "# c. Complex (complex)\n",
    "Numbers with a real and imaginary part."
   ]
  },
  {
   "cell_type": "code",
   "execution_count": 3,
   "metadata": {
    "colab": {
     "base_uri": "https://localhost:8080/"
    },
    "id": "XnOaVRJMegOb",
    "outputId": "00f45aec-a38c-4457-e6bb-e06ca0e1c073"
   },
   "outputs": [
    {
     "name": "stdout",
     "output_type": "stream",
     "text": [
      "<class 'complex'>  num_complex =  (2+3j)\n"
     ]
    }
   ],
   "source": [
    "num_complex: complex = 2 + 3j\n",
    "\n",
    "print(type(num_complex), \" num_complex = \", num_complex)  # <class 'complex'>"
   ]
  },
  {
   "cell_type": "markdown",
   "metadata": {
    "id": "Nt9pLLYqOfn_"
   },
   "source": [
    "## **Accessing Real and Imaginary Parts**\n",
    "Python provides attributes .real and .imag to extract the real and imaginary parts of a complex number."
   ]
  },
  {
   "cell_type": "code",
   "execution_count": 4,
   "metadata": {
    "colab": {
     "base_uri": "https://localhost:8080/"
    },
    "id": "PXfnlEpCOnpf",
    "outputId": "d08a51ff-3636-48d4-bd25-a675f215f027"
   },
   "outputs": [
    {
     "name": "stdout",
     "output_type": "stream",
     "text": [
      "Real Part: 3.0\n",
      "Imaginary Part: 4.0\n"
     ]
    }
   ],
   "source": [
    "z = 3 + 4j\n",
    "\n",
    "print(\"Real Part:\", z.real)   # Output: 3.0\n",
    "print(\"Imaginary Part:\", z.imag)  # Output: 4.0\n"
   ]
  },
  {
   "cell_type": "markdown",
   "metadata": {
    "id": "FjfT5KJoerBa"
   },
   "source": [
    "# **2. Boolean (bool)**\n",
    "Represents True or False."
   ]
  },
  {
   "cell_type": "code",
   "execution_count": 5,
   "metadata": {
    "colab": {
     "base_uri": "https://localhost:8080/"
    },
    "id": "YSKhFipPevfS",
    "outputId": "8a2c19e1-db46-42ef-e678-0b4491a7860e"
   },
   "outputs": [
    {
     "name": "stdout",
     "output_type": "stream",
     "text": [
      "<class 'bool'>  is_python_fun =  True\n"
     ]
    }
   ],
   "source": [
    "is_python_fun: bool = True #False\n",
    "\n",
    "print(type(is_python_fun), \" is_python_fun = \", is_python_fun)  # <class 'bool'>"
   ]
  },
  {
   "cell_type": "markdown",
   "metadata": {
    "id": "TJUhDEyDfgbC"
   },
   "source": [
    "# **3. Sequence Types**\n",
    "These store multiple items in an ordered way.\n",
    "\n",
    "# a. String (str)\n",
    "A sequence of characters enclosed in quotes."
   ]
  },
  {
   "cell_type": "code",
   "execution_count": 6,
   "metadata": {
    "colab": {
     "base_uri": "https://localhost:8080/"
    },
    "id": "9jr31ibhfvJa",
    "outputId": "19525925-673a-4591-aa9e-6d5eead3c8a6"
   },
   "outputs": [
    {
     "name": "stdout",
     "output_type": "stream",
     "text": [
      "<class 'str'>  text_double   =  Hello, Python!\n",
      "<class 'str'>  text_single   =  Hello, Python!\n",
      "<class 'str'>  text_multi    =  Hello, Python!\n",
      "<class 'str'>  text_multi_1  =  Hello, Python!\n"
     ]
    }
   ],
   "source": [
    "text_double: str  = \"Hello, Python!\" # Strings with Double Quotes (\")\n",
    "text_single: str  = 'Hello, Python!' # Strings with Single Quotes (')\n",
    "text_multi: str   = '''Hello, Python!''' # Multi-Line Strings with Triple Quotes (''' or \"\"\")\n",
    "text_multi_1: str = \"\"\"Hello, Python!\"\"\" # Multi-Line Strings with Triple Quotes (''' or \"\"\")\n",
    "\n",
    "print(type(text_double), \" text_double   = \", text_double)    # <class 'str'>\n",
    "print(type(text_single), \" text_single   = \", text_single)    # <class 'str'>\n",
    "print(type(text_multi), \" text_multi    = \", text_multi)      # <class 'str'>\n",
    "print(type(text_multi_1), \" text_multi_1  = \", text_multi_1)  # <class 'str'>\n",
    "\n"
   ]
  },
  {
   "cell_type": "markdown",
   "metadata": {
    "id": "PstKibgRhVxx"
   },
   "source": [
    "# Key Takeaways\n",
    "- Double Quotes (\"): Use when the string contains single quotes.\n",
    "- Single Quotes ('): Use when the string contains double quotes.\n",
    "- Triple Quotes (''' or \"\"\"): Use for multi-line strings or docstrings.\n",
    "\n",
    "<br>\n",
    "\n",
    "Understanding these variations allows you to `write cleaner, more readable, and error-free code`. As you progress in Python, you’ll find that strings are incredibly powerful, especially when combined with string methods, formatting, and manipulation techniques."
   ]
  },
  {
   "cell_type": "markdown",
   "metadata": {
    "id": "uehGlxlplpRt"
   },
   "source": [
    "# b. List (list)\n",
    "An ordered, mutable collection."
   ]
  },
  {
   "cell_type": "code",
   "execution_count": 7,
   "metadata": {
    "colab": {
     "base_uri": "https://localhost:8080/"
    },
    "id": "q09yosMmltwl",
    "outputId": "214b10aa-05d2-4f48-fcb0-441bb5d4c5a7"
   },
   "outputs": [
    {
     "name": "stdout",
     "output_type": "stream",
     "text": [
      "<class 'list'>  my_list_1 =  [1, 2, 3, 'Java', 3.14, True]\n",
      "<class 'list'>  my_list   =  [1, 2, 3, 'Python', 3.14, (3+2j)]\n"
     ]
    }
   ],
   "source": [
    "my_list_1: int = [1, 2, 3, \"Java\", 3.14, True] #Type hinting is not enforced in python, but you should mention appropriate data type in this case 'list'\n",
    "my_list: list = [1, 2, 3, \"Python\", 3.14, 3+2j]\n",
    "\n",
    "print(type(my_list_1), \" my_list_1 = \", my_list_1)  # <class 'list'>\n",
    "print(type(my_list), \" my_list   =  \" + str(my_list)) # we will look into type casting in classes ahead"
   ]
  },
  {
   "cell_type": "markdown",
   "metadata": {
    "id": "hXKS2ioDnZB0"
   },
   "source": [
    "# c. Tuple (tuple)\n",
    "An ordered, immutable collection."
   ]
  },
  {
   "cell_type": "code",
   "execution_count": 8,
   "metadata": {
    "colab": {
     "base_uri": "https://localhost:8080/"
    },
    "id": "RLyNfg8unbbr",
    "outputId": "07ba40af-cd7f-40ff-b669-5cbdfffb5e8d"
   },
   "outputs": [
    {
     "name": "stdout",
     "output_type": "stream",
     "text": [
      "<class 'tuple'>  my_tuple =  (1, 2, 3, 'AI', 2.71, False, 0.3, (3+2j))\n"
     ]
    }
   ],
   "source": [
    "my_tuple: tuple = (1, 2, 3, \"AI\", 2.71, False, .3 , 3+2j )\n",
    "print(type(my_tuple), \" my_tuple = \", my_tuple )  # <class 'tuple'>"
   ]
  },
  {
   "cell_type": "markdown",
   "metadata": {
    "id": "L0MnL8l7npXL"
   },
   "source": [
    "## d. Range (range)\n",
    "Represents a sequence of numbers."
   ]
  },
  {
   "cell_type": "code",
   "execution_count": 9,
   "metadata": {
    "colab": {
     "base_uri": "https://localhost:8080/"
    },
    "id": "jKNeEdtZzsuK",
    "outputId": "49547574-ecf8-475f-e61a-3443cb15b11b"
   },
   "outputs": [
    {
     "name": "stdout",
     "output_type": "stream",
     "text": [
      "<class 'range'>  num_range =  2\n"
     ]
    }
   ],
   "source": [
    "num_range: range = range(1, 10, 2) # range(start, stop, step)\n",
    "print(type(num_range), \" num_range = \", num_range.step)  # <class 'range'>"
   ]
  },
  {
   "cell_type": "code",
   "execution_count": 10,
   "metadata": {
    "colab": {
     "base_uri": "https://localhost:8080/"
    },
    "id": "BwaCWX8w0F1Y",
    "outputId": "380222bf-a307-490e-afe0-f0c2a6a54b79"
   },
   "outputs": [
    {
     "name": "stdout",
     "output_type": "stream",
     "text": [
      "1\n",
      "3\n",
      "5\n",
      "7\n",
      "9\n"
     ]
    }
   ],
   "source": [
    "for i in range(1, 10, 2): # we will study loops indepth in classes ahead\n",
    "  print(i)"
   ]
  },
  {
   "cell_type": "markdown",
   "metadata": {
    "id": "0jiFRisu16lX"
   },
   "source": [
    "# **4. Set Types**\n",
    "\n",
    "Unordered collections with unique elements.\n",
    "\n",
    "## a. Set (set)\n",
    "`Mutable`, `unordered`, and contains `unique values`."
   ]
  },
  {
   "cell_type": "code",
   "execution_count": 11,
   "metadata": {
    "colab": {
     "base_uri": "https://localhost:8080/"
    },
    "id": "2wEOjFfI1zfW",
    "outputId": "f089e63f-6571-4fd1-9f4f-8611e549f42a"
   },
   "outputs": [
    {
     "name": "stdout",
     "output_type": "stream",
     "text": [
      "<class 'set'> my_set =  {1, 2, 33, 4, 5}\n"
     ]
    }
   ],
   "source": [
    "my_set: set = {1, 2, 33, 4, 4, 5}\n",
    "print(type(my_set), \"my_set = \", my_set)  # <class 'set'>"
   ]
  },
  {
   "cell_type": "markdown",
   "metadata": {
    "id": "_4J3whrd1nlA"
   },
   "source": [
    "## b. Frozen Set (frozenset)\n",
    "Immutable version of a set."
   ]
  },
  {
   "cell_type": "code",
   "execution_count": 12,
   "metadata": {
    "colab": {
     "base_uri": "https://localhost:8080/"
    },
    "id": "DMCfWO1TA0DV",
    "outputId": "9f5b162b-dd2e-401c-8ccc-a5fd4af6e8f9"
   },
   "outputs": [
    {
     "name": "stdout",
     "output_type": "stream",
     "text": [
      "<class 'frozenset'>  frozen_set =  frozenset({2, 3, 4, 5, 11})\n"
     ]
    }
   ],
   "source": [
    "frozen_set = frozenset([11, 2, 3, 4, 4, 5])\n",
    "#frozen_set = frozenset(my_set)\n",
    "print(type(frozen_set), \" frozen_set = \", frozen_set)  # <class 'frozenset'>"
   ]
  },
  {
   "cell_type": "markdown",
   "metadata": {
    "id": "Ox1IatryBd01"
   },
   "source": [
    "# **5. Mapping Type**\n",
    "\n",
    "Dictionary (dict)\n",
    "Stores key-value pairs."
   ]
  },
  {
   "cell_type": "code",
   "execution_count": 13,
   "metadata": {
    "colab": {
     "base_uri": "https://localhost:8080/"
    },
    "id": "PS7qHqJdBiH1",
    "outputId": "791176e5-39bf-4eb2-b11f-03f0bd671f35"
   },
   "outputs": [
    {
     "name": "stdout",
     "output_type": "stream",
     "text": [
      "<class 'dict'>  my_dict =  {'name': 'Alice', 'age': 25, 'language': 'Python'}\n"
     ]
    }
   ],
   "source": [
    "my_dict: dict = {\"name\": \"Alice\", \"age\": 25, \"language\": \"Python\"}\n",
    "print(type(my_dict),\" my_dict = \", my_dict )  # <class 'dict'>"
   ]
  },
  {
   "cell_type": "markdown",
   "metadata": {
    "id": "P7mlJgLhB7N8"
   },
   "source": [
    "# **6. Binary Types**\n",
    "In Python, binary types are used to handle binary data, such as raw bytes, binary files, or data exchanged over networks. Binary types are distinct from text types (str) and are specifically designed to represent and manipulate sequences of bytes. Python provides three built-in binary types:\n",
    "\n",
    "<br>\n",
    "\n",
    "## a. Bytes (bytes)\n",
    "\n",
    "1.  **Definition**: An immutable sequence of bytes.\n",
    "\n",
    "2.  **Purpose**: Used to represent binary data, such as byte sequences coming from files, network communications, or raw data.\n",
    "\n",
    "3.  **Key Points**:\n",
    "    * A bytes object is immutable, meaning you cannot modify its content after creation.\n",
    "    * It is often used when you need to work with fixed binary data.\n",
    "    * Literal syntax: b\"...\" or b'...'."
   ]
  },
  {
   "cell_type": "code",
   "execution_count": 14,
   "metadata": {
    "colab": {
     "base_uri": "https://localhost:8080/"
    },
    "id": "IDZtUyWHCAMz",
    "outputId": "60dcd386-e42d-4460-d81c-5e45de1565b9"
   },
   "outputs": [
    {
     "name": "stdout",
     "output_type": "stream",
     "text": [
      "<class 'bytes'>  byte_data =  b'Hello'\n"
     ]
    }
   ],
   "source": [
    "byte_data: bytes = b\"Hello\"\n",
    "print(type(byte_data), \" byte_data = \", byte_data)  # <class 'bytes'>"
   ]
  },
  {
   "cell_type": "markdown",
   "metadata": {
    "id": "yvTG_pTSXr4Y"
   },
   "source": [
    "### **Its just an example to give you feel about how to work with binary data.**\n",
    "\n",
    "`We will learn more about file handling in classes ahead.`"
   ]
  },
  {
   "cell_type": "code",
   "execution_count": 22,
   "metadata": {
    "id": "qLH8x1SdWfsS",
    "scrolled": true
   },
   "outputs": [],
   "source": [
    "from PIL import Image\n",
    "import io\n",
    "\n",
    "# Open an image file in binary mode\n",
    "with open(\"Aldrin_Apollo_11_original.jpg\", \"rb\") as image_file:\n",
    "    image_data = image_file.read()\n",
    "\n",
    "# image = Image.open(io.BytesIO(image_data))\n",
    "# image.show() "
   ]
  },
  {
   "cell_type": "code",
   "execution_count": 10,
   "metadata": {
    "colab": {
     "base_uri": "https://localhost:8080/"
    },
    "id": "EPCGSVbdXfuJ",
    "outputId": "4fd97c9f-60ac-471a-b073-f73be7d46194"
   },
   "outputs": [
    {
     "name": "stdout",
     "output_type": "stream",
     "text": [
      "Image copied successfully!\n"
     ]
    }
   ],
   "source": [
    "with open(\"Aldrin_Apollo_11_original.jpg\", \"rb\") as source_file:\n",
    "    data = source_file.read()\n",
    "\n",
    "# Write the binary data to a new image file\n",
    "with open(\"copy.png\", \"wb\") as target_file:\n",
    "    target_file.write(data)\n",
    "\n",
    "print(\"Image copied successfully!\")"
   ]
  },
  {
   "cell_type": "markdown",
   "metadata": {
    "id": "i_AOmcdyCLok"
   },
   "source": [
    "## b. Bytearray (bytearray)\n",
    "\n",
    "1.  **Definition**: A mutable sequence of bytes.\n",
    "\n",
    "2.  **Purpose**: Like bytes, but allows modification of its content.\n",
    "\n",
    "3.  **Key Points**:\n",
    "    * You can modify the content of a bytearray object in place.\n",
    "    * Suitable for cases where you need to update or manipulate binary data frequently.\n",
    "    * Literal syntax: Does not have direct literal syntax (must use bytearray() constructor).\n",
    "\n"
   ]
  },
  {
   "cell_type": "markdown",
   "metadata": {
    "id": "lhJ5fQJxZhvH"
   },
   "source": [
    "## **Number Systems**\n",
    "\n",
    "* **ASCII**:\n",
    "\n",
    "  The American Standard Code for Information Interchange (ASCII) is a character encoding standard that represents text in computers using numeric codes. It maps 128 characters (letters, digits, punctuation, and control characters) to values from 0 to 127.\n",
    "\n",
    "* **Decimal**:\n",
    "\n",
    "  The decimal system is the standard numerical system used in everyday life, based on 10 digits (0 through 9). It's a base-10 system, where each digit's position represents a power of 10.\n",
    "\n",
    "* **Hexadecimal**:\n",
    "\n",
    "  The hexadecimal system is a base-16 numbering system, using 16 symbols: 0–9 to represent values 0 to 9, and A–F (or a–f) to represent values 10 to 15. It's widely used in computing for compact representation of binary data.\n",
    "\n",
    "* **Octal**:\n",
    "\n",
    "  The octal system is a base-8 numbering system, using digits 0 through 7. It was more commonly used in older computer systems and is still occasionally used in modern computing, especially for file permissions in Unix/Linux.\n",
    "\n",
    "* **Binary**:\n",
    "\n",
    "  The binary system is a base-2 numbering system that uses only two digits: 0 and 1. It's the fundamental language of computers, where each binary digit (bit) represents a state of off or on.\n",
    "\n",
    "<br>\n",
    "\n",
    "### **What is a Base in Number Systems?**\n",
    "\n",
    "A base (or radix) in a number system refers to the number of **`unique digits`** (including zero) used to represent numbers. It defines how place values are assigned to digits in a numeral.\n",
    "\n",
    "<br>\n",
    "\n",
    "[ASCII, decimal, hexadecimal, octal, and binary conversion table](https://www.ascii-code.com/ASCII)\n"
   ]
  },
  {
   "cell_type": "code",
   "execution_count": null,
   "metadata": {
    "colab": {
     "base_uri": "https://localhost:8080/"
    },
    "id": "sEX9FhOqCNuD",
    "outputId": "15fdb2d9-efe3-4fac-8efa-fe5bb5275910"
   },
   "outputs": [],
   "source": [
    "byte_array: bytearray = bytearray([65, 66, 67, 69]) #65=A, 66=B ....decimal number system\n",
    "print(type(byte_array), \" byte_array = \", byte_array)  # <class 'bytearray'>\n",
    "print(byte_array[0])\n",
    "print(chr(byte_array[0]))\n",
    "print(\"Empty bytearray(): \",bytearray())"
   ]
  },
  {
   "cell_type": "markdown",
   "metadata": {
    "id": "awcZVILScATF"
   },
   "source": [
    "### **What is UTF-8?**\n",
    "\n",
    "UTF-8 (8-bit Unicode Transformation Format) is a variable-length character encoding that can represent every character in the Unicode standard. It is designed for efficiency and compatibility:"
   ]
  },
  {
   "cell_type": "code",
   "execution_count": null,
   "metadata": {
    "colab": {
     "base_uri": "https://localhost:8080/"
    },
    "id": "0gc9KH76bijd",
    "outputId": "ac7e25d8-48f5-4a8c-bd00-2c60b6b189d5"
   },
   "outputs": [],
   "source": [
    "byte_array: bytearray = bytearray([65, 66, 67, 69])\n",
    "# Converting the entire bytearray to a string using decode()\n",
    "print(\"Decoded string: \", byte_array.decode('utf-8'))  # Output: ABCE"
   ]
  },
  {
   "cell_type": "code",
   "execution_count": null,
   "metadata": {
    "colab": {
     "base_uri": "https://localhost:8080/"
    },
    "id": "GDDM6XDRWbA8",
    "outputId": "3b393707-05d7-458d-8271-77aafe69053f"
   },
   "outputs": [],
   "source": [
    "# Creating a bytearray object\n",
    "ba: bytearray = bytearray(b\"hello\")\n",
    "print(\"Before: ba = \", ba)\n",
    "\n",
    "# Modifying the bytearray\n",
    "ba[0] = 72  # ASCII value of 'H'\n",
    "\n",
    "print(\"After: ba = \",ba)  # Output: bytearray(b'Hello')"
   ]
  },
  {
   "cell_type": "markdown",
   "metadata": {
    "id": "L4oyEwbOJx9A"
   },
   "source": [
    "## c. Memoryview (memoryview)\n",
    "\n",
    "The memoryview object in Python provides an efficient way to work with binary data by allowing you to access and manipulate the memory of another object (like bytes or bytearray) without copying the data. This is particularly useful when working with large datasets or binary streams, as it avoids the overhead of creating additional copies."
   ]
  },
  {
   "cell_type": "code",
   "execution_count": 16,
   "metadata": {
    "colab": {
     "base_uri": "https://localhost:8080/"
    },
    "id": "3kHu7Ts0J0g1",
    "outputId": "7cdef9f3-b688-463d-f469-5586a7085d7c"
   },
   "outputs": [
    {
     "name": "stdout",
     "output_type": "stream",
     "text": [
      "<class 'memoryview'>  mem_view =  <memory at 0x000001DB36B70D00>\n",
      "b'Opera'\n",
      "<memory at 0x000001DB36B713C0>\n"
     ]
    }
   ],
   "source": [
    "mem_view: memoryview = memoryview(b\"Operation Badar\")\n",
    "print(type(mem_view), \" mem_view = \", mem_view)  # <class 'memoryview'>\n",
    "print(bytes(mem_view[0:5]))\n",
    "print( mem_view[6:11] ) #cast it to byte otherwise it will show memory address"
   ]
  },
  {
   "cell_type": "markdown",
   "metadata": {
    "id": "USxtlLzUQptM"
   },
   "source": [
    "**None Data Type in Python**\n",
    "==========================\n",
    "\n",
    "In Python, `None` is a special data type that represents the absence of a value or a null object reference. It is a `singleton object`, meaning that there is `only one instance` of `None` in the entire Python environment.\n",
    "\n",
    "* **No value**: `None` represents the absence of a value or a null object reference."
   ]
  },
  {
   "cell_type": "code",
   "execution_count": 17,
   "metadata": {
    "colab": {
     "base_uri": "https://localhost:8080/"
    },
    "id": "eXGkordZND2X",
    "outputId": "ad7d6750-c123-4f2e-fdc2-98553e11bc4a"
   },
   "outputs": [
    {
     "name": "stdout",
     "output_type": "stream",
     "text": [
      "<class 'NoneType'>\n",
      "value of x = None\n",
      "x == y =  True\n",
      "id(x) =  140717025331328\n",
      "id(y) =  140717025331328\n",
      "id(z) =  140717025331328\n",
      "x is y =  True\n",
      "x is z =  True\n",
      "id(x) is id(z) =  False\n",
      "id(x) == id(z) =  True\n"
     ]
    },
    {
     "data": {
      "text/plain": [
       "'\\nIn Python, `==` is the equality operator, which checks if the values of two objects are equal.\\nOn the other hand, `is` is the identity operator, which checks if two objects are the same object in memory.\\n'"
      ]
     },
     "execution_count": 17,
     "metadata": {},
     "output_type": "execute_result"
    }
   ],
   "source": [
    "x: str = None\n",
    "y: str = None\n",
    "z: str = x\n",
    "\n",
    "#display the data type of x:\n",
    "print(type(x))\n",
    "print(\"value of x = \" + str(x) )\n",
    "print(\"x == y = \", x == y)\n",
    "print(\"id(x) = \", id(x))\n",
    "print(\"id(y) = \", id(y))\n",
    "print(\"id(z) = \", id(z))\n",
    "print(\"x is y = \", x is y)\n",
    "print(\"x is z = \", x is z)\n",
    "print(\"id(x) is id(z) = \", id(x) is id(z)) # False :( why? you will get the answer in topic 'Integer Literals in Python'\n",
    "print(\"id(x) == id(z) = \", id(x) == id(z)) # True\n",
    "'''\n",
    "In Python, `==` is the equality operator, which checks if the values of two objects are equal.\n",
    "On the other hand, `is` is the identity operator, which checks if two objects are the same object in memory.\n",
    "'''"
   ]
  },
  {
   "cell_type": "code",
   "execution_count": 18,
   "metadata": {
    "colab": {
     "base_uri": "https://localhost:8080/"
    },
    "id": "N9d9tESQ0mfp",
    "outputId": "5cf63552-1d8d-499c-f14f-216981c8e230"
   },
   "outputs": [
    {
     "name": "stdout",
     "output_type": "stream",
     "text": [
      "None is None            =  True\n",
      "None == None            =  True\n",
      "None == x               =  True\n",
      "None is x               =  True\n",
      "id(None) is id(None)    =  False\n"
     ]
    }
   ],
   "source": [
    "print(\"None is None            = \", None is None) # True\n",
    "print(\"None == None            = \", None == None) # True\n",
    "print(\"None == x               = \", None == x)\n",
    "print(\"None is x               = \", None is x)\n",
    "print(\"id(None) is id(None)    = \", id(None) is id(None)) # 'is' check memory space sharing\n",
    "#If number is out of integer literal range -5 to 256 then even the same number are considered as seprate object"
   ]
  },
  {
   "cell_type": "markdown",
   "metadata": {
    "id": "ZQ2Ah68hWoRJ"
   },
   "source": [
    "**id() Function in Python**\n",
    "==========================\n",
    "\n",
    "The `id()` function in Python returns the `unique identifier` for an `object`. This identifier is a small integer that is unique among all objects currently in existence of your python environment.\n",
    "\n",
    "**What is the Purpose of id()**\n",
    "-----------------------------\n",
    "\n",
    "The `id()` function is used to:\n",
    "\n",
    "* **Identify objects**: The `id()` function returns a `unique identifier` that can be used to identify objects in memory.\n",
    "* **Check object equality**: By checking the `id()` of two objects, you can determine if they are the `same object in memory`.\n",
    "* **Debugging**: The `id()` function can be useful for debugging purposes, such as identifying which object is being referenced by a variable."
   ]
  },
  {
   "cell_type": "code",
   "execution_count": 19,
   "metadata": {
    "colab": {
     "base_uri": "https://localhost:8080/"
    },
    "id": "85gAJTxuSaFT",
    "outputId": "bf145cab-218b-4428-9f0b-46fa2a6ee937"
   },
   "outputs": [
    {
     "name": "stdout",
     "output_type": "stream",
     "text": [
      "Variable x, y & z have 'None' value, as we know that 'None' is a singleton object,\n",
      "meaning that there is only one instance of `None` in the entire Python environment.\n",
      "So the id(x), id(y) & id(z) represents the same object id in memory.\n",
      "\n",
      "ID of variable x  = 140717025331328\n",
      "ID of variable y  = 140717025331328\n",
      "ID of variable z  = 140717025331328\n",
      "\n",
      "Is variable x & y shares the same memory space? \n",
      "The answer is: True\n"
     ]
    }
   ],
   "source": [
    "print(\"\"\"Variable x, y & z have 'None' value, as we know that 'None' is a singleton object,\n",
    "meaning that there is only one instance of `None` in the entire Python environment.\n",
    "So the id(x), id(y) & id(z) represents the same object id in memory.\\n\"\"\")\n",
    "\n",
    "x: str = None\n",
    "y: str = None\n",
    "z: str = x\n",
    "\n",
    "print(\"ID of variable x  = \" + str(id(x)))\n",
    "print(\"ID of variable y  = \" + str(id(y)))\n",
    "print(\"ID of variable z  = \" + str(id(z)))\n",
    "\n",
    "print(\"\\nIs variable x & y shares the same memory space? \\nThe answer is: \" + str(id(x) == id(y)))"
   ]
  },
  {
   "cell_type": "markdown",
   "metadata": {
    "id": "jZJ6q-znY-D0"
   },
   "source": [
    "**False in a boolean context**: `None` is considered `False` in a boolean context, meaning that it can be used in conditional statements.\n"
   ]
  },
  {
   "cell_type": "code",
   "execution_count": 20,
   "metadata": {
    "colab": {
     "base_uri": "https://localhost:8080/"
    },
    "id": "2jRnWtc2Xw0t",
    "outputId": "16738338-7889-4bfb-acd4-1e288288d287"
   },
   "outputs": [
    {
     "name": "stdout",
     "output_type": "stream",
     "text": [
      "else block: As None is considered False, so this line of code will execute\n"
     ]
    }
   ],
   "source": [
    "if(None):\n",
    "  print(\"if block: This line of code will not execute because in Python 'None' is considered False\")\n",
    "else:\n",
    "  print(\"else block: As None is considered False, so this line of code will execute\")\n"
   ]
  },
  {
   "cell_type": "markdown",
   "metadata": {
    "id": "C22LcHoiaAMM"
   },
   "source": [
    "**Integer Literals in Python**\n",
    "==========================\n",
    "\n",
    "In Python, an integer literal is a sequence of characters that represents an integer value. Integer literals are used to define integer constants in Python code.\n",
    "\n",
    "**Memory Space Sharing**\n",
    "================================\n",
    "\n",
    "In Python, integer literals can share the `same memory space` under certain conditions. This is due to a process called **`interning`**, where Python stores a pool of interned objects that can be reused when the same value is needed again."
   ]
  },
  {
   "cell_type": "markdown",
   "metadata": {
    "id": "2wrMqLFBUFUY"
   },
   "source": [
    "Lets assign value to variable x, y & z"
   ]
  },
  {
   "cell_type": "code",
   "execution_count": 21,
   "metadata": {
    "colab": {
     "base_uri": "https://localhost:8080/"
    },
    "id": "UPlE9RWnUDeI",
    "outputId": "791e366c-5f4c-41d9-f549-2dade8f3a88b"
   },
   "outputs": [
    {
     "name": "stdout",
     "output_type": "stream",
     "text": [
      "Value of x = 1, and id(x) = 140717026161576\n",
      "Value of y = 1, and id(y) = 140717026161576\n",
      "Value of z = 1, and id(z) = 140717026161576\n",
      "id(x) == id(y) =  True\n",
      "id(x) is id(y) =  False\n"
     ]
    }
   ],
   "source": [
    "x: int = 1\n",
    "y: int = 1\n",
    "z: int = x\n",
    "\n",
    "print(\"Value of x = \" + str(x) + \", and id(x) = \" + str(id(x))) # when you need to concatinate any thing with string you need to first cast it to str()\n",
    "print(\"Value of y = \" + str(y) + \", and id(y) = \" + str(id(y)))\n",
    "print(\"Value of z = \" + str(z) + \", and id(z) = \" + str(id(z)))\n",
    "print(\"id(x) == id(y) = \", id(x) == id(y) )\n",
    "print(\"id(x) is id(y) = \", id(x) is id(y) ) # ;)"
   ]
  },
  {
   "cell_type": "markdown",
   "metadata": {
    "id": "eYygWTpRcAtp"
   },
   "source": [
    "**Integer Interning in Python**\n",
    "-----------------------------\n",
    "\n",
    "In Python, integers in the range *`-5 to 256`* are interned, meaning that they are stored in a `pool of interned objects`. This means that when you create an integer literal within this range, Python returns a reference to the existing object in the pool."
   ]
  },
  {
   "cell_type": "code",
   "execution_count": 22,
   "metadata": {
    "colab": {
     "base_uri": "https://localhost:8080/"
    },
    "id": "6UMzIoohb3Bq",
    "outputId": "88070b1c-c695-49f3-add6-66280e8a174a"
   },
   "outputs": [
    {
     "name": "stdout",
     "output_type": "stream",
     "text": [
      "Value of x = -6, and id(x) = 2041027993360\n",
      "Value of y = -6, and id(y) = 2041026733488\n",
      "Value of z = -6, and id(z) = 2041027993360\n",
      "\n",
      " ===================== \n",
      "\n",
      "Value of x = 257, and id(a) = 2041027994960\n",
      "Value of y = 257, and id(b) = 2041026732560\n",
      "Value of z = 257, and id(c) = 2041027994960\n"
     ]
    }
   ],
   "source": [
    "x = -6\n",
    "y = -6\n",
    "z = x\n",
    "\n",
    "print(\"Value of x = \" + str(x) + \", and id(x) = \" + str(id(x)))\n",
    "print(\"Value of y = \" + str(y) + \", and id(y) = \" + str(id(y)))\n",
    "print(\"Value of z = \" + str(z) + \", and id(z) = \" + str(id(z)))\n",
    "\n",
    "print(\"\\n ===================== \\n\")\n",
    "\n",
    "a = 257\n",
    "b = 257\n",
    "c = a\n",
    "\n",
    "print(\"Value of x = \" + str(a) + \", and id(a) = \" + str(id(a)))\n",
    "print(\"Value of y = \" + str(b) + \", and id(b) = \" + str(id(b)))\n",
    "print(\"Value of z = \" + str(c) + \", and id(c) = \" + str(id(c)))"
   ]
  },
  {
   "cell_type": "markdown",
   "metadata": {
    "id": "12w2jPTrtznM"
   },
   "source": [
    "Greenland Shark. Living in the waters of—you guessed it—Greenland, this shark lives for 300 to 500 years. It has the longest known lifespan of any vertebrate species"
   ]
  },
  {
   "cell_type": "code",
   "execution_count": 23,
   "metadata": {
    "colab": {
     "base_uri": "https://localhost:8080/"
    },
    "id": "MoTdqsRjtBZt",
    "outputId": "187a1b4a-3d20-42a7-8f80-ed0f3a6ef005"
   },
   "outputs": [
    {
     "name": "stdout",
     "output_type": "stream",
     "text": [
      "Value of shark1_age = 300, and id(shark1_age) = 2041027996912\n",
      "Value of shark2_age = 300, and id(shark2_age) = 2041013440528\n",
      "shark1_age & shark2_age have same age\n",
      " ===================== \n",
      "shark1_age & shark2_age have different id\n"
     ]
    }
   ],
   "source": [
    "shark1_age = 300\n",
    "shark2_age = 300\n",
    "\n",
    "print(\"Value of shark1_age = \" + str(shark1_age) + \", and id(shark1_age) = \" + str(id(shark1_age)))\n",
    "print(\"Value of shark2_age = \" + str(shark2_age) + \", and id(shark2_age) = \" + str(id(shark2_age)))\n",
    "\n",
    "if(shark1_age == shark2_age): #comparison by value\n",
    "  print(\"shark1_age & shark2_age have same age\")\n",
    "else:\n",
    "  print(\"shark1_age & shark2_age have different age\")\n",
    "\n",
    "print(\" ===================== \")\n",
    "\n",
    "if(id(shark1_age) == id(shark2_age)):#comparison by id()\n",
    "  print(\"shark1_age & shark2_age have same id\")\n",
    "else:\n",
    "  print(\"shark1_age & shark2_age have different id\")"
   ]
  },
  {
   "cell_type": "markdown",
   "metadata": {
    "id": "qH_viLhZpRDH"
   },
   "source": [
    "# **Type Casting**\n",
    "----------------\n",
    "\n",
    "Type casting is the process of converting a value of one data type to another data type. Python supports several types of type casting, including:\n",
    "\n",
    "1. **Implicit Type Casting**: Python automatically converts a value of one data type to another data type when necessary. For example, when you add an integer and a float, Python converts the integer to a float.\n",
    "2. **Explicit Type Casting**: You can use functions like `int()`, `float()`, `str()`, and `bool()` to explicitly convert a value of one data type to another data type."
   ]
  },
  {
   "cell_type": "code",
   "execution_count": 24,
   "metadata": {
    "colab": {
     "base_uri": "https://localhost:8080/"
    },
    "id": "nOekIi3ze4TI",
    "outputId": "56b8d6de-d163-4dcf-e2bf-43ee7723c496"
   },
   "outputs": [
    {
     "name": "stdout",
     "output_type": "stream",
     "text": [
      "Value of i = 10,     Type of i = <class 'int'>\n",
      "Value of f = 30.6,   Type of f = <class 'float'>\n",
      "Value of f1 = 66.89, Type of i = <class 'float'>\n",
      "Value of i1 = 66,    Type of i = <class 'int'>\n",
      "Value of f2 = 25.8,  Type of i = <class 'float'>\n"
     ]
    }
   ],
   "source": [
    "i: int = 10\n",
    "print(\"Value of i = \" + str(i) + \",     Type of i = \" + str(type(i)))\n",
    "\n",
    "j: float = 20.6\n",
    "\n",
    "f: float = i + j #Implicit Type Casting\n",
    "print(\"Value of f = \" + str(f) + \",   Type of f = \" + str(type(f)))\n",
    "\n",
    "f1: float = 66.89\n",
    "print(\"Value of f1 = \" + str(f1) + \", Type of i = \" + str(type(f1)))\n",
    "\n",
    "i1: int = int(f1) #When ever you type cast a float value into an integer it truncate\n",
    "             #the decimal part and only keeps the whole number\n",
    "print(\"Value of i1 = \" + str(i1) + \",    Type of i = \" + str(type(i1)))\n",
    "\n",
    "s: str = \"25.8\"\n",
    "f2: float = float(s)\n",
    "print(\"Value of f2 = \" + str(f2) + \",  Type of i = \" + str(type(f2)))\n",
    "\n",
    "#uncomment the below line of code to see error\n",
    "#i2 = int(s) #correct this error by casting with float()\n",
    "#print(\"Value of i2 = \" + str(i2) + \", Type of i = \" + str(type(i2)))\n",
    "\n"
   ]
  },
  {
   "cell_type": "markdown",
   "metadata": {
    "id": "i7l0I5UMlP0y"
   },
   "source": [
    "**Truthy and Falsy Values in context of boolean data type**\n",
    "-------------------------\n",
    "\n",
    "In Python, some values are considered **truthy**, while others are considered **falsy**. Truthy values are treated as `True` in a boolean context, while falsy values are treated as `False`.\n",
    "\n",
    "Here are some examples of truthy and falsy values:\n",
    "\n",
    "* Truthy values:\n",
    "\t+ Non-zero integers (e.g., `1`, `2`, `-3`, etc.)\n",
    "\t+ Non-empty strings (e.g., `\"hello\"`, `\"world\"`, etc.)\n",
    "\t+ Non-empty lists (e.g., `[1, 2, 3]`, `[\"a\", \"b\", \"c\"]`, etc.)\n",
    "\t+ Non-empty dictionaries (e.g., `{\"a\": 1, \"b\": 2}`, etc.)\n",
    "* Falsy values:\n",
    "\t+ Zero (e.g., `0`)\n",
    "\t+ Empty strings (e.g., `\"\"`)\n",
    "\t+ Empty lists (e.g., `[]`)\n",
    "\t+ Empty dictionaries (e.g., `{}`)\n",
    "\t+ `None`"
   ]
  },
  {
   "cell_type": "code",
   "execution_count": 25,
   "metadata": {
    "colab": {
     "base_uri": "https://localhost:8080/"
    },
    "id": "DiHzbLbkjyGc",
    "outputId": "db73d34b-626c-4b38-d283-8495c291c0ed"
   },
   "outputs": [
    {
     "name": "stdout",
     "output_type": "stream",
     "text": [
      "Value of b = True, Type of b = <class 'bool'>\n",
      "\n",
      " =================== \n",
      "\n",
      "if block: This line of code will execute if we provide any integer value\n",
      "          other then '0' ZERO\n",
      "\n",
      " =================== \n",
      "\n",
      "check: bool(\"55\")             =  True\n",
      "check: bool(\"\")               =  False\n",
      "check: bool([1, 2, 3])        =  True\n",
      "check: bool({\"key\", \"value\"}) =  True\n",
      "check: bool([])               =  False\n",
      "check: bool({})               =  False\n"
     ]
    }
   ],
   "source": [
    "k: int = -9 #Any number either positive or negative, beside '0' ZERO is considered True\n",
    "b: bool = bool(k)\n",
    "print(\"Value of b = \" + str(b) + \", Type of b = \" + str(type(b)))\n",
    "\n",
    "print(\"\\n =================== \\n\")\n",
    "\n",
    "if(k):\n",
    "  print(\"\"\"if block: This line of code will execute if we provide any integer value\n",
    "          other then '0' ZERO\"\"\")\n",
    "else:\n",
    "  print(\"else block: As '0' is considered False, so this line of code will not execute\")\n",
    "\n",
    "print(\"\\n =================== \\n\")\n",
    "\n",
    "print(\"check: bool(\\\"55\\\")             = \", bool(\"55\"))\n",
    "print(\"check: bool(\\\"\\\")               = \", bool(\"\"))\n",
    "print(\"check: bool([1, 2, 3])        = \", bool([1, 2, 3]))\n",
    "print(\"check: bool({\\\"key\\\", \\\"value\\\"}) = \", bool({\"key\", \"value\"}))\n",
    "\n",
    "#Note: we will learn about list and dictionary in up comming classes\n",
    "print(\"check: bool([])               = \", bool([])) #[] square brackets used to represent list\n",
    "print(\"check: bool({})               = \", bool({})) #{} curly brackets used to represent dictionary\n"
   ]
  },
  {
   "cell_type": "markdown",
   "metadata": {
    "id": "cqchNJzcURGh"
   },
   "source": [
    "**isinstance() Function in Python**\n",
    "==================================\n",
    "\n",
    "The `isinstance()` function in Python is used to check if an object (first argument) is an instance of a class (second argument). It returns `True` if the object is an instance of the class, and `False` otherwise.\n",
    "\n",
    "**Syntax**\n",
    "---------\n",
    "\n",
    "The syntax of the `isinstance()` function is as follows:\n",
    "```python\n",
    "isinstance(object, classinfo)\n",
    "```\n",
    "Where:\n",
    "\n",
    "* `object` is the object to be checked.\n",
    "* `classinfo` is the class or a tuple of classes to check against.\n"
   ]
  },
  {
   "cell_type": "code",
   "execution_count": 26,
   "metadata": {
    "colab": {
     "base_uri": "https://localhost:8080/"
    },
    "id": "EAhJes-rTyhr",
    "outputId": "abb6385c-06d5-4631-acd3-dbbe2c55dd0f"
   },
   "outputs": [
    {
     "name": "stdout",
     "output_type": "stream",
     "text": [
      "check: isinstance(age, int)      =  True\n",
      "check: isinstance(weight, int)   =  False\n",
      "check: isinstance(weight, float) =  True\n"
     ]
    }
   ],
   "source": [
    "age: int = 20\n",
    "weight: float = 66.89\n",
    "print(\"check: isinstance(age, int)      = \", isinstance(age, int))\n",
    "print(\"check: isinstance(weight, int)   = \", isinstance(weight, int))\n",
    "print(\"check: isinstance(weight, float) = \", isinstance(weight, float))"
   ]
  }
 ],
 "metadata": {
  "colab": {
   "provenance": []
  },
  "kernelspec": {
   "display_name": "Python 3 (ipykernel)",
   "language": "python",
   "name": "python3"
  },
  "language_info": {
   "codemirror_mode": {
    "name": "ipython",
    "version": 3
   },
   "file_extension": ".py",
   "mimetype": "text/x-python",
   "name": "python",
   "nbconvert_exporter": "python",
   "pygments_lexer": "ipython3",
   "version": "3.13.5"
  }
 },
 "nbformat": 4,
 "nbformat_minor": 4
}
