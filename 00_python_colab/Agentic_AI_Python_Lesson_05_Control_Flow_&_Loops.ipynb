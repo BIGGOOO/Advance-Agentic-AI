{
 "cells": [
  {
   "cell_type": "markdown",
   "metadata": {
    "id": "nje0wz3tM5ZI"
   },
   "source": [
    "## **1. Introduction to Control Flow**\n",
    "\n",
    "Control flow refers to the order in which statements are executed in a program. In Python, decision-making is achieved using if, elif, and else statements, along with comparison and logical operators."
   ]
  },
  {
   "cell_type": "markdown",
   "metadata": {
    "id": "cdKktT4gNNgX"
   },
   "source": [
    "## **2. Comparison Operators**\n",
    "\n",
    "Comparison operators are used to compare values and return True or False. Here are the most common ones:\n",
    "\n",
    "* == (equal to)\n",
    "* != &nbsp;(not equal to)\n",
    "* \\> &nbsp;&nbsp;(greater than)\n",
    "* < &nbsp;&nbsp;(less than)\n",
    "* \\>= (greater than or equal to)\n",
    "* <= (less than or equal to)\n",
    "\n",
    "<br>\n",
    "\n",
    "Example Code:"
   ]
  },
  {
   "cell_type": "code",
   "execution_count": 2,
   "metadata": {
    "colab": {
     "base_uri": "https://localhost:8080/"
    },
    "id": "gUxrlEW-Mj--",
    "outputId": "0861f50f-3dba-4074-b8af-be23c7d7bac4"
   },
   "outputs": [
    {
     "name": "stdout",
     "output_type": "stream",
     "text": [
      "x == y =  False\n",
      "x != y =  True\n",
      "x > y  =  False\n",
      "x < y  =  True\n",
      "x >= y =  False\n",
      "x <= y =  True\n"
     ]
    }
   ],
   "source": [
    "x: int = 10\n",
    "y: int = 20\n",
    "\n",
    "print(\"x == y = \", x == y)  # False\n",
    "print(\"x != y = \", x != y)  # True\n",
    "print(\"x > y  = \", x > y)   # False\n",
    "print(\"x < y  = \", x < y)   # True\n",
    "print(\"x >= y = \", x >= y)  # False\n",
    "print(\"x <= y = \", x <= y)  # True"
   ]
  },
  {
   "cell_type": "markdown",
   "metadata": {
    "id": "qGjQea4gOYZW"
   },
   "source": [
    "# **3. Logical Operators**\n",
    "\n",
    "Logical operators combine multiple conditions:\n",
    "\n",
    "* and (True if both conditions are True)\n",
    "* or (True if at least one condition is True)\n",
    "* not (reverses the result of a condition)"
   ]
  },
  {
   "cell_type": "code",
   "execution_count": 3,
   "metadata": {
    "colab": {
     "base_uri": "https://localhost:8080/"
    },
    "id": "Qh0hehGnOp3G",
    "outputId": "f8705e64-51fd-46c8-8619-9008feef4086"
   },
   "outputs": [
    {
     "name": "stdout",
     "output_type": "stream",
     "text": [
      "You are eligible for a student discount.\n"
     ]
    }
   ],
   "source": [
    "age: int = 25\n",
    "is_student: bool = True\n",
    "\n",
    "# Check if age is greater than 18 AND is_student is True\n",
    "if age > 18 and is_student:\n",
    "    print(\"You are eligible for a student discount.\")\n",
    "\n",
    "# Check if age is less than 12 OR greater than 60\n",
    "if age < 12 or age > 60:\n",
    "    print(\"You qualify for a special discount.\")\n",
    "\n",
    "# Check if the person is NOT a student\n",
    "if not is_student:\n",
    "    print(\"You are not a student.\")"
   ]
  },
  {
   "cell_type": "markdown",
   "metadata": {
    "id": "3mxsAIXFO9mV"
   },
   "source": [
    "# **4. The if Statement**\n",
    "\n",
    "The if statement is used to execute a block of code only if a condition is True.\n",
    "\n",
    "<br>\n",
    "\n",
    "Example Code:"
   ]
  },
  {
   "cell_type": "code",
   "execution_count": 4,
   "metadata": {
    "colab": {
     "base_uri": "https://localhost:8080/"
    },
    "id": "P-Btma3SPEnV",
    "outputId": "bda53857-69ac-4374-bea3-d5467e39204c"
   },
   "outputs": [
    {
     "name": "stdout",
     "output_type": "stream",
     "text": [
      "The number is positive.\n"
     ]
    }
   ],
   "source": [
    "num: int = 10\n",
    "\n",
    "if num > 0:\n",
    "    print(\"The number is positive.\")"
   ]
  },
  {
   "cell_type": "markdown",
   "metadata": {
    "id": "OKk1YFpYPIrN"
   },
   "source": [
    "# **5. The else Statement**\n",
    "\n",
    "The else statement is used to execute a block of code if the if condition is False.\n",
    "\n",
    "<br>\n",
    "\n",
    "Example Code:"
   ]
  },
  {
   "cell_type": "code",
   "execution_count": 5,
   "metadata": {
    "colab": {
     "base_uri": "https://localhost:8080/"
    },
    "id": "iVWOSzW5POk1",
    "outputId": "065c6cdf-54cc-4be9-f243-8a666faa187f"
   },
   "outputs": [
    {
     "name": "stdout",
     "output_type": "stream",
     "text": [
      "The number is not positive.\n"
     ]
    }
   ],
   "source": [
    "num: int = -5\n",
    "\n",
    "if num > 0:\n",
    "    print(\"The number is positive.\")\n",
    "else:\n",
    "    print(\"The number is not positive.\")"
   ]
  },
  {
   "cell_type": "markdown",
   "metadata": {
    "id": "xuBQJ3zqPWQF"
   },
   "source": [
    "# **6. The elif Statement**\n",
    "\n",
    "The elif statement is used to check multiple conditions. It stands for \"else if.\"\n",
    "<br>\n",
    "\n",
    "Example Code:"
   ]
  },
  {
   "cell_type": "code",
   "execution_count": 6,
   "metadata": {
    "colab": {
     "base_uri": "https://localhost:8080/"
    },
    "id": "Nf2lpunmPePV",
    "outputId": "e15b689d-4a29-42ba-c7f8-1046ff6c6c3c"
   },
   "outputs": [
    {
     "name": "stdout",
     "output_type": "stream",
     "text": [
      "The number is zero.\n"
     ]
    }
   ],
   "source": [
    "num: int = 0\n",
    "\n",
    "if num > 0: # Program execution step# 1 if condition = False\n",
    "    print(\"The number is positive.\")\n",
    "elif num < 0: # Program execution step# 2 if condition = False\n",
    "    print(\"The number is negative.\")\n",
    "else: # Program execution step# 3 python will execute the else block\n",
    "    print(\"The number is zero.\")"
   ]
  },
  {
   "cell_type": "markdown",
   "metadata": {
    "id": "0VTvdL1wPjh1"
   },
   "source": [
    "# **7. Nested if Statements**\n",
    "\n",
    "if statements can be nested inside other if statements to check multiple conditions.\n",
    "\n",
    "<br>\n",
    "\n",
    "Example Code:"
   ]
  },
  {
   "cell_type": "code",
   "execution_count": 7,
   "metadata": {
    "colab": {
     "base_uri": "https://localhost:8080/"
    },
    "id": "Fvyg6Zc2PsV0",
    "outputId": "4c5a09e4-d2cc-4041-aa05-e3eba1636ede"
   },
   "outputs": [
    {
     "name": "stdout",
     "output_type": "stream",
     "text": [
      "The number is positive and even.\n"
     ]
    }
   ],
   "source": [
    "num: int = 10\n",
    "#num: int = -10\n",
    "\n",
    "if num > 0: # check wather the number is positive or negative\n",
    "\n",
    "    if num % 2 == 0: # Modulus operator, remainder 0 = even_number,\n",
    "        print(\"The number is positive and even.\")\n",
    "    else: # remainder 1 = odd_number,\n",
    "        print(\"The number is positive and odd.\")\n",
    "\n",
    "else:\n",
    "    print(\"The number is negative.\")"
   ]
  },
  {
   "cell_type": "markdown",
   "metadata": {
    "id": "dz7WWYZcRf87"
   },
   "source": [
    "# **8. Practical Examples**\n",
    "\n",
    "Here are two practical examples to solidify these concepts.\n",
    "\n",
    "Example 1: Simple Calculator"
   ]
  },
  {
   "cell_type": "code",
   "execution_count": 9,
   "metadata": {
    "colab": {
     "base_uri": "https://localhost:8080/"
    },
    "id": "UHsjLNQRRj1E",
    "outputId": "485f8ed7-b94c-4c3a-d552-5685554ca8f1"
   },
   "outputs": [
    {
     "name": "stdin",
     "output_type": "stream",
     "text": [
      "Enter the operation (+, -, *, /):  -\n",
      "Enter the first number:  1\n",
      "Enter the second number:  1\n"
     ]
    },
    {
     "name": "stdout",
     "output_type": "stream",
     "text": [
      "Result: 0.0\n"
     ]
    }
   ],
   "source": [
    "operation: str = input(\"Enter the operation (+, -, *, /): \")\n",
    "num1: float = float(input(\"Enter the first number: \"))\n",
    "num2: float = float(input(\"Enter the second number: \"))\n",
    "\n",
    "if operation == '+':\n",
    "    result = num1 + num2\n",
    "elif operation == '-':\n",
    "    result = num1 - num2\n",
    "elif operation == '*':\n",
    "    result = num1 * num2\n",
    "elif operation == '/':\n",
    "    if num2 != 0:\n",
    "        result = num1 / num2\n",
    "    else:\n",
    "        result = \"Error: Division by zero.\"\n",
    "else:\n",
    "    result = \"Invalid operation.\"\n",
    "\n",
    "print(\"Result:\", result)"
   ]
  },
  {
   "cell_type": "code",
   "execution_count": 10,
   "metadata": {
    "colab": {
     "base_uri": "https://localhost:8080/"
    },
    "id": "oWg8AtU8Rski",
    "outputId": "524dc042-0757-43dc-c045-7ff2fae638f2"
   },
   "outputs": [
    {
     "name": "stdin",
     "output_type": "stream",
     "text": [
      "Enter the operation (+, -, *, /, %, //, ** or 'q' to quit):  q\n"
     ]
    }
   ],
   "source": [
    "def calculator():\n",
    "  \"\"\"\n",
    "  A calculator function that takes user input for numbers and operations,\n",
    "  including modulus, floor division, and exponentiation.\n",
    "  \"\"\"\n",
    "  while True:\n",
    "    operation = input(\"Enter the operation (+, -, *, /, %, //, ** or 'q' to quit): \")\n",
    "    if operation.lower() == 'q':\n",
    "      break\n",
    "    if operation not in ('+', '-', '*', '/', '%', '//', '**'):\n",
    "      print(\"Invalid operation.\")\n",
    "      continue\n",
    "\n",
    "    try:\n",
    "      num1 = float(input(\"Enter the first number: \"))\n",
    "      num2 = float(input(\"Enter the second number: \"))\n",
    "    except ValueError:\n",
    "      print(\"Invalid input. Please enter numbers only.\")\n",
    "      continue\n",
    "\n",
    "    if operation == '+':\n",
    "      result = num1 + num2\n",
    "    elif operation == '-':\n",
    "      result = num1 - num2\n",
    "    elif operation == '*':\n",
    "      result = num1 * num2\n",
    "    elif operation == '/':\n",
    "      if num2 != 0:\n",
    "        result = num1 / num2\n",
    "      else:\n",
    "        result = \"Error: Division by zero.\"\n",
    "        print(result)\n",
    "        continue\n",
    "    elif operation == '%':\n",
    "      result = num1 % num2\n",
    "    elif operation == '//':\n",
    "      if num2 != 0:\n",
    "        result = num1 // num2\n",
    "      else:\n",
    "        result = \"Error: Division by zero.\"\n",
    "        print(result)\n",
    "        continue\n",
    "    elif operation == '**':\n",
    "      result = num1 ** num2\n",
    "\n",
    "    print(\"Result:\", result)\n",
    "\n",
    "calculator()\n"
   ]
  },
  {
   "cell_type": "code",
   "execution_count": 11,
   "metadata": {
    "colab": {
     "base_uri": "https://localhost:8080/"
    },
    "id": "sJNd7U_TTFmR",
    "outputId": "9949d3ab-480c-44f0-9674-53c20664f942"
   },
   "outputs": [
    {
     "name": "stdin",
     "output_type": "stream",
     "text": [
      "Enter the marks:  13.5\n"
     ]
    },
    {
     "name": "stdout",
     "output_type": "stream",
     "text": [
      "The grade for 13.5 marks is: F\n"
     ]
    }
   ],
   "source": [
    "def grading_system(marks):\n",
    "  \"\"\"\n",
    "  This function takes marks as input and returns the corresponding grade.\n",
    "\n",
    "  Args:\n",
    "    marks: The marks obtained by the student.\n",
    "\n",
    "  Returns:\n",
    "    The grade corresponding to the marks.\n",
    "  \"\"\"\n",
    "  if marks >= 90:\n",
    "    grade = \"A+\"\n",
    "  elif marks >= 80:\n",
    "    grade = \"A\"\n",
    "  elif marks >= 70:\n",
    "    grade = \"B\"\n",
    "  elif marks >= 60:\n",
    "    grade = \"C\"\n",
    "  elif marks >= 50:\n",
    "    grade = \"D\"\n",
    "  else:\n",
    "    grade = \"F\"\n",
    "  return grade\n",
    "\n",
    "# Get marks as input from the user\n",
    "while True:\n",
    "  try:\n",
    "    marks = float(input(\"Enter the marks: \"))\n",
    "    if 0 <= marks <= 100:\n",
    "      break\n",
    "    else:\n",
    "      print(\"Marks must be between 0 and 100.\")\n",
    "  except ValueError:\n",
    "    print(\"Invalid input. Please enter a number.\")\n",
    "\n",
    "# Determine the grade\n",
    "grade = grading_system(marks)\n",
    "\n",
    "# Print the grade\n",
    "print(f\"The grade for {marks} marks is: {grade}\")\n"
   ]
  },
  {
   "cell_type": "markdown",
   "metadata": {
    "id": "qt5olnWF_T1v"
   },
   "source": [
    "## **Python `match-case` Statement**\n",
    "\n",
    "Python introduced the `match-case` statement in **Python 3.10** as a way to implement **structural pattern matching**, which provides a cleaner and more readable alternative to traditional `if-elif-else` chains.\n",
    "\n",
    "---\n",
    "\n",
    "## **1. Basic Syntax**\n",
    "The `match-case` statement works by comparing an expression against multiple patterns. The syntax is:"
   ]
  },
  {
   "cell_type": "code",
   "execution_count": 12,
   "metadata": {
    "colab": {
     "base_uri": "https://localhost:8080/"
    },
    "id": "sQa075B-_LTp",
    "outputId": "c78a039c-2169-4e72-fada-bdcd2b648ad2"
   },
   "outputs": [
    {
     "name": "stdout",
     "output_type": "stream",
     "text": [
      "OK\n",
      "Not Found\n",
      "Unknown Status\n"
     ]
    }
   ],
   "source": [
    "def check_status(code):\n",
    "    match code:\n",
    "        case 200:\n",
    "            print(\"OK\")\n",
    "        case 400:\n",
    "            print(\"Bad Request\")\n",
    "        case 404:\n",
    "            print(\"Not Found\")\n",
    "        case _:\n",
    "            print(\"Unknown Status\")\n",
    "\n",
    "check_status(200)  # Output: OK\n",
    "check_status(404)  # Output: Not Found\n",
    "check_status(500)  # Output: Unknown Status"
   ]
  },
  {
   "cell_type": "markdown",
   "metadata": {
    "id": "VS6hMVcq_nNY"
   },
   "source": [
    "[See appendix for more detail on match-case](https://github.com/panaversity/learn-modern-ai-python/blob/main/00_python_colab/Appendix/The%20%60match-case%60%20Statement.md)"
   ]
  },
  {
   "cell_type": "markdown",
   "metadata": {
    "id": "owZCVAzMYXuk"
   },
   "source": [
    "# **Tutorial: Loops and Iteration in Python**\n",
    "\n",
    "## **1. Introduction to Loops**\n",
    "\n",
    "Loops are used to repeat a block of code multiple times. Python supports two types of loops:\n",
    "\n",
    "* for loops: Used to iterate over a sequence (e.g., lists, strings, or ranges).\n",
    "* while loops: Used to repeat a block of code as long as a condition is True.\n",
    "\n",
    "When to use scenario:\n",
    "\n",
    "  **A. For Loop:**\n",
    "\n",
    "  - **`Grading a class of students`**: You have a `list of 30 students` and you want to calculate the average score for each student. You use a `for` loop to iterate over the list of students and calculate the average score for each one.\n",
    "\n",
    "  - Washing Machine(number spins), Microwave Oven e.t.c.\n",
    "\n",
    "**B. While Loop:**\n",
    "\n",
    "  - **`Filling up a gas tank`**: You want to fill up your gas tank `until it's full.` You don't know how many times you'll need to fill up the tank, but you'll keep filling it up until it's full. You use a `while` loop to fill up the tank until it's full.\n",
    "\n",
    "  - Air Conditioner, Refigrator, Heater, Washing Machine(filling water) e.t.c."
   ]
  },
  {
   "cell_type": "markdown",
   "metadata": {
    "id": "YpIiRimQZNTz"
   },
   "source": [
    "## **2. For Loop**\n",
    "\n",
    "The for loop iterates over a sequence (like a list, string, or range) and executes a block of code for each item `for a specified or fixed number of times`.\n",
    "\n",
    "Example Code:"
   ]
  },
  {
   "cell_type": "code",
   "execution_count": 13,
   "metadata": {
    "colab": {
     "base_uri": "https://localhost:8080/"
    },
    "id": "EijmL3ZQZbGE",
    "outputId": "cf3e98bc-6297-48f6-a25c-5e00542e0365"
   },
   "outputs": [
    {
     "name": "stdout",
     "output_type": "stream",
     "text": [
      "apple\n",
      "banana\n",
      "cherry\n"
     ]
    }
   ],
   "source": [
    "# Iterate over a list\n",
    "fruits: list = [\"apple\", \"banana\", \"cherry\"]\n",
    "for fruit in fruits:\n",
    "    print(fruit)\n",
    "\n",
    "# Note: Membership Operators in Python in, not in"
   ]
  },
  {
   "cell_type": "code",
   "execution_count": 14,
   "metadata": {
    "colab": {
     "base_uri": "https://localhost:8080/"
    },
    "id": "o7irFcDpcUJ6",
    "outputId": "344aa3be-4fae-431a-884c-6d8ee7e25f4c"
   },
   "outputs": [
    {
     "name": "stdout",
     "output_type": "stream",
     "text": [
      "P\n",
      "y\n",
      "t\n",
      "h\n",
      "o\n",
      "n\n"
     ]
    }
   ],
   "source": [
    "# Iterate over a string\n",
    "word: str = \"Python\"\n",
    "for letter in word:\n",
    "    print(letter)"
   ]
  },
  {
   "cell_type": "markdown",
   "metadata": {
    "id": "ojHRbf4XX0ty"
   },
   "source": [
    "## **for Loop with else in Python**\n",
    "\n",
    "In Python, a for loop can have an else block. The else block runs only if the loop completes without a break statement."
   ]
  },
  {
   "cell_type": "markdown",
   "metadata": {
    "id": "0g6CuSppX75P"
   },
   "source": [
    "## **Example 1: for loop with else (No break)**"
   ]
  },
  {
   "cell_type": "code",
   "execution_count": 15,
   "metadata": {
    "colab": {
     "base_uri": "https://localhost:8080/"
    },
    "id": "S70vV677X-nf",
    "outputId": "fca2f3aa-5bb5-45f3-c651-c4aef7497856"
   },
   "outputs": [
    {
     "name": "stdout",
     "output_type": "stream",
     "text": [
      "1\n",
      "2\n",
      "3\n",
      "4\n",
      "5\n",
      "Loop completed successfully!\n"
     ]
    }
   ],
   "source": [
    "numbers = [1, 2, 3, 4, 5]\n",
    "\n",
    "for num in numbers:\n",
    "    print(num)\n",
    "else:\n",
    "    print(\"Loop completed successfully!\")"
   ]
  },
  {
   "cell_type": "markdown",
   "metadata": {
    "id": "fwOAXMHlYK8_"
   },
   "source": [
    "## **Example 2: for loop with break (Skipping else)**"
   ]
  },
  {
   "cell_type": "code",
   "execution_count": 16,
   "metadata": {
    "colab": {
     "base_uri": "https://localhost:8080/"
    },
    "id": "7_-6MufBYNKH",
    "outputId": "ac9c6c73-9a84-43d2-ff12-4524c28bc4cb"
   },
   "outputs": [
    {
     "name": "stdout",
     "output_type": "stream",
     "text": [
      "1\n",
      "2\n",
      "3\n",
      "Breaking the loop!\n"
     ]
    }
   ],
   "source": [
    "numbers = [1, 2, 3, 4, 5]\n",
    "\n",
    "for num in numbers:\n",
    "    print(num)\n",
    "    if num == 3:\n",
    "        print(\"Breaking the loop!\")\n",
    "        break\n",
    "else:\n",
    "    print(\"Loop completed successfully!\")  # This will NOT run"
   ]
  },
  {
   "cell_type": "markdown",
   "metadata": {
    "id": "-HvAZx3zYTNR"
   },
   "source": [
    "## **Example 3: Searching with else**"
   ]
  },
  {
   "cell_type": "code",
   "execution_count": 17,
   "metadata": {
    "colab": {
     "base_uri": "https://localhost:8080/"
    },
    "id": "S71XjOgBYVHh",
    "outputId": "3c2a6507-d54e-4982-823c-39474decae4c"
   },
   "outputs": [
    {
     "name": "stdout",
     "output_type": "stream",
     "text": [
      "Number not found!\n"
     ]
    }
   ],
   "source": [
    "numbers = [1, 2, 3, 4, 5]\n",
    "\n",
    "for num in numbers:\n",
    "    if num == 6:\n",
    "        print(\"Number found!\")\n",
    "        break\n",
    "else:\n",
    "    print(\"Number not found!\")  # Runs because 6 is not in the list"
   ]
  },
  {
   "cell_type": "code",
   "execution_count": 18,
   "metadata": {
    "colab": {
     "base_uri": "https://localhost:8080/"
    },
    "id": "5Tm1WArNafKD",
    "outputId": "38418418-6f0f-4236-a6b0-33b9b7fcdc24"
   },
   "outputs": [
    {
     "name": "stdout",
     "output_type": "stream",
     "text": [
      "0\n",
      "1\n",
      "2\n",
      "3\n",
      "4\n"
     ]
    }
   ],
   "source": [
    "# Print numbers from 0 to 4\n",
    "for i in range(5):\n",
    "    print(i)"
   ]
  },
  {
   "cell_type": "code",
   "execution_count": 19,
   "metadata": {
    "colab": {
     "base_uri": "https://localhost:8080/"
    },
    "id": "F50qApdlcaa5",
    "outputId": "3c1391b8-0fd2-4efa-bbc1-0be35ff7b88a"
   },
   "outputs": [
    {
     "name": "stdout",
     "output_type": "stream",
     "text": [
      "2\n",
      "4\n",
      "6\n",
      "8\n",
      "10\n"
     ]
    }
   ],
   "source": [
    "# Print even numbers from 2 to 10\n",
    "for i in range(2, 11, 2):\n",
    "    print(i)"
   ]
  },
  {
   "cell_type": "markdown",
   "metadata": {
    "id": "e8oUU81zRdth"
   },
   "source": [
    "`_` (*underscore*) This is a **`throwaway variable`**, which is a common Python convention for a variable that you **`don't plan to use`**. In this case, the loop variable is not used within the loop, so it's assigned to `_`.\n",
    "\n",
    "If you want to use the loop variable, you can replace `_` with a more meaningful variable name. For example:"
   ]
  },
  {
   "cell_type": "code",
   "execution_count": 20,
   "metadata": {
    "colab": {
     "base_uri": "https://localhost:8080/"
    },
    "id": "IN8mIoFoRhAR",
    "outputId": "a793ec0c-da8b-43cb-8bb3-5a8695488e5b"
   },
   "outputs": [
    {
     "name": "stdout",
     "output_type": "stream",
     "text": [
      "Hello, World! Iteration 0\n",
      "Hello, World! Iteration 1\n",
      "Hello, World! Iteration 2\n",
      "Hello, World! Iteration 3\n",
      "Hello, World! Iteration 4\n",
      "Hello, World! Iteration 5\n",
      "Hello, World! Iteration 6\n",
      "Hello, World! Iteration 7\n",
      "Hello, World! Iteration 8\n",
      "Hello, World! Iteration 9\n"
     ]
    }
   ],
   "source": [
    "for _ in range(10): # Just to show that _ is a loop variable, but its throwaway variable\n",
    "    # Code to be executed 100,000 times\n",
    "    print(f\"Hello, World! Iteration { _ }\")"
   ]
  },
  {
   "cell_type": "markdown",
   "metadata": {
    "id": "qUifWJgZbgNa"
   },
   "source": [
    "## **3. The while Loop**\n",
    "\n",
    "The while loop repeats a block of code `as long as a condition is True.`\n",
    "\n",
    "<br>\n",
    "\n",
    "Example Code:"
   ]
  },
  {
   "cell_type": "code",
   "execution_count": 21,
   "metadata": {
    "colab": {
     "base_uri": "https://localhost:8080/"
    },
    "id": "nittGh5gbrx6",
    "outputId": "92435731-a983-484f-ec28-a17ca315168f"
   },
   "outputs": [
    {
     "name": "stdout",
     "output_type": "stream",
     "text": [
      "1\n",
      "2\n",
      "3\n",
      "4\n",
      "5\n"
     ]
    }
   ],
   "source": [
    "# Print numbers from 1 to 5\n",
    "count: int = 1\n",
    "while count <= 5:\n",
    "    print(count)\n",
    "    count += 1"
   ]
  },
  {
   "cell_type": "markdown",
   "metadata": {
    "id": "yHMeShp0b87i"
   },
   "source": [
    "## **4. Controlling Loops**\n",
    "\n",
    "Python provides two keywords (`break` & `continue`) to control loops:\n",
    "\n",
    "* **break**: `Exits` the loop immediately.\n",
    "* **continue**: `Skips` the rest of the code in the current iteration and moves to the next iteration.\n",
    "\n",
    "<br>\n",
    "\n",
    "\n",
    "Example Code:"
   ]
  },
  {
   "cell_type": "code",
   "execution_count": 22,
   "metadata": {
    "colab": {
     "base_uri": "https://localhost:8080/"
    },
    "id": "BMXsZH8ocGLz",
    "outputId": "3aeb43ae-efb2-410e-dbee-70dc35977c36"
   },
   "outputs": [
    {
     "name": "stdout",
     "output_type": "stream",
     "text": [
      "0\n",
      "1\n",
      "2\n",
      "3\n",
      "4\n"
     ]
    }
   ],
   "source": [
    "# Break example\n",
    "for i in range(10):\n",
    "    if i == 5:\n",
    "        break\n",
    "    print(i)  # Prints 0, 1, 2, 3, 4"
   ]
  },
  {
   "cell_type": "code",
   "execution_count": 23,
   "metadata": {
    "colab": {
     "base_uri": "https://localhost:8080/"
    },
    "id": "sNCH9A7jcfnB",
    "outputId": "2f819679-123f-41f2-d75a-a5ca2cb375f7"
   },
   "outputs": [
    {
     "name": "stdout",
     "output_type": "stream",
     "text": [
      "0\n",
      "1\n",
      "2\n",
      "4\n"
     ]
    }
   ],
   "source": [
    "# Continue example\n",
    "for i in range(5):\n",
    "    if i == 3:\n",
    "        continue\n",
    "    print(i)  # Prints 0, 1, 2, 4"
   ]
  },
  {
   "cell_type": "markdown",
   "metadata": {
    "id": "jzqau7uVeu2v"
   },
   "source": [
    "## **5. Nested Loops**\n",
    "\n",
    "### **What are nested loops?**\n",
    "\n",
    "Nested loops, also known as inner loops or nested iterations, refer to the process of placing one loop inside another loop. The inner loop will iterate through its entire cycle for each iteration of the outer loop.\n",
    "\n",
    "<br>\n",
    "\n",
    "\n",
    "### **Example Code:**"
   ]
  },
  {
   "cell_type": "code",
   "execution_count": 24,
   "metadata": {
    "colab": {
     "base_uri": "https://localhost:8080/"
    },
    "id": "RRVuaE8Ye1dv",
    "outputId": "d4966dee-e7cf-4431-b4f7-5c11f070d7b4"
   },
   "outputs": [
    {
     "name": "stdout",
     "output_type": "stream",
     "text": [
      "Multiplication table for 1:\n",
      "1 * 1 = 1\n",
      "1 * 2 = 2\n",
      "1 * 3 = 3\n",
      "1 * 4 = 4\n",
      "1 * 5 = 5\n",
      "\n",
      "Multiplication table for 2:\n",
      "2 * 1 = 2\n",
      "2 * 2 = 4\n",
      "2 * 3 = 6\n",
      "2 * 4 = 8\n",
      "2 * 5 = 10\n",
      "\n",
      "Multiplication table for 3:\n",
      "3 * 1 = 3\n",
      "3 * 2 = 6\n",
      "3 * 3 = 9\n",
      "3 * 4 = 12\n",
      "3 * 5 = 15\n",
      "\n",
      "Multiplication table for 4:\n",
      "4 * 1 = 4\n",
      "4 * 2 = 8\n",
      "4 * 3 = 12\n",
      "4 * 4 = 16\n",
      "4 * 5 = 20\n",
      "\n",
      "Multiplication table for 5:\n",
      "5 * 1 = 5\n",
      "5 * 2 = 10\n",
      "5 * 3 = 15\n",
      "5 * 4 = 20\n",
      "5 * 5 = 25\n",
      "\n"
     ]
    }
   ],
   "source": [
    "# Multiplication table\n",
    "for outer in range(1, 6): # outer loop\n",
    "    print(f\"Multiplication table for {outer}:\")\n",
    "    for inner in range(1, 6): # nested inner loop\n",
    "        print(f\"{outer} * {inner} = {outer * inner}\")\n",
    "    print()  # Add a blank line after each row"
   ]
  },
  {
   "cell_type": "markdown",
   "metadata": {
    "id": "UUnJw84gxJof"
   },
   "source": [
    "**Best Practices for Using Nested Loops**\n",
    "\n",
    "While nested loops can be powerful, it's essential to use them wisely to avoid performance issues and improve readability:\n",
    "\n",
    "1. **Minimize nesting**: Try to limit the number of nested loops to three levels or less, as excessive nesting can lead to performance degradation and decreased readability.\n",
    "\n",
    "2. **Use meaningful variable names**: Use clear and descriptive variable names to help distinguish between the outer and inner loops.\n",
    "3. **Optimize loop conditions**: Ensure that the loop conditions are optimized to minimize unnecessary iterations.\n"
   ]
  },
  {
   "cell_type": "markdown",
   "metadata": {
    "id": "A9-H8UiDfX0_"
   },
   "source": [
    "## **6. Practical Examples**\n",
    "\n",
    "Here are two practical examples to solidify these concepts.\n",
    "\n",
    "<br>\n",
    "\n",
    "**Example 1**: Sum of Numbers"
   ]
  },
  {
   "cell_type": "code",
   "execution_count": 25,
   "metadata": {
    "colab": {
     "base_uri": "https://localhost:8080/"
    },
    "id": "WoCMtfLefeo-",
    "outputId": "4625ce81-08cd-431c-fcc7-7f19c490c1eb"
   },
   "outputs": [
    {
     "name": "stdout",
     "output_type": "stream",
     "text": [
      "Sum of numbers from 1 to 100: 5050\n"
     ]
    }
   ],
   "source": [
    "# Sum numbers from 1 to 100\n",
    "total: int = 0\n",
    "for i in range(1, 101):\n",
    "    total += i\n",
    "print(\"Sum of numbers from 1 to 100:\", total)"
   ]
  },
  {
   "cell_type": "markdown",
   "metadata": {
    "id": "drUiYA7jfjWW"
   },
   "source": [
    "**Example 2**: Finding Factors of a Number"
   ]
  },
  {
   "cell_type": "code",
   "execution_count": 26,
   "metadata": {
    "colab": {
     "base_uri": "https://localhost:8080/"
    },
    "id": "RsuhaHi_fk0X",
    "outputId": "b93fced1-44f9-4f58-936b-1e136b227229"
   },
   "outputs": [
    {
     "name": "stdout",
     "output_type": "stream",
     "text": [
      "Factors of 24: [1, 2, 3, 4, 6, 8, 12, 24]\n"
     ]
    }
   ],
   "source": [
    "# Find factors of a number\n",
    "num: int = 24\n",
    "factors = []\n",
    "for i in range(1, num + 1):\n",
    "    if num % i == 0:\n",
    "        factors.append(i)\n",
    "print(f\"Factors of {num}: {factors}\")"
   ]
  }
 ],
 "metadata": {
  "colab": {
   "provenance": []
  },
  "kernelspec": {
   "display_name": "Python [conda env:base] *",
   "language": "python",
   "name": "conda-base-py"
  },
  "language_info": {
   "codemirror_mode": {
    "name": "ipython",
    "version": 3
   },
   "file_extension": ".py",
   "mimetype": "text/x-python",
   "name": "python",
   "nbconvert_exporter": "python",
   "pygments_lexer": "ipython3",
   "version": "3.13.5"
  }
 },
 "nbformat": 4,
 "nbformat_minor": 4
}
